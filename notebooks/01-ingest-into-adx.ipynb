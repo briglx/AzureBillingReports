{
 "cells": [
  {
   "cell_type": "markdown",
   "metadata": {},
   "source": [
    "# Overview\n",
    "\n",
    "ADX needs to split source file(s) between 100MB-1GB of uncompressed data before ingesting.\n",
    "\n",
    "This notebook will show how to:\n",
    "\n",
    "* Create ADX tables\n",
    "* Download most recent billing file for a given month\n",
    "* Split into part\n",
    "* Upload and Import into ADX\n",
    "\n",
    "# Setup\n",
    "\n",
    "Configure the environment variables. Copy `example.env` to `.env` and update the values\n",
    "```bash\n",
    "cp example.env .env\n",
    "\n",
    "# load .env vars (optional)\n",
    "[ -f .env ] && while IFS= read -r line; do [[ $line =~ ^[^#]*= ]] && eval \"export $line\"; done < .env\n",
    "```"
   ]
  },
  {
   "cell_type": "markdown",
   "metadata": {},
   "source": [
    "\n",
    "Create ADX Tables\n",
    "```bash\n",
    "# Create ADX table\n",
    "adx_cmd = \".create table AmortizedCost (['InvoiceSectionName']:string, ['AccountName']:string, ['AccountOwnerId']:string, ['SubscriptionId']:guid, ['SubscriptionName']:string, ['ResourceGroup']:string, ['ResourceLocation']:string, ['Date']:datetime, ['ProductName']:string, ['MeterCategory']:string, ['MeterSubCategory']:string, ['MeterId']:guid, ['MeterName']:string, ['MeterRegion']:string, ['UnitOfMeasure']:string, ['Quantity']:real, ['EffectivePrice']:real, ['CostInBillingCurrency']:real, ['CostCenter']:string, ['ConsumedService']:string, ['ResourceId']:string, ['Tags']:string, ['OfferId']:string, ['AdditionalInfo']:dynamic, ['ServiceInfo1']:string, ['ServiceInfo2']:string, ['ResourceName']:string, ['ReservationId']:string, ['ReservationName']:string, ['UnitPrice']:real, ['ProductOrderId']:string, ['ProductOrderName']:string, ['Term']:string, ['PublisherType']:string, ['PublisherName']:string, ['ChargeType']:string, ['Frequency']:string, ['PricingModel']:string, ['AvailabilityZone']:string, ['BillingAccountId']:string, ['BillingAccountName']:string, ['BillingCurrencyCode']:string, ['BillingPeriodStartDate']:datetime, ['BillingPeriodEndDate']:datetime, ['BillingProfileId']:string, ['BillingProfileName']:string, ['InvoiceSectionId']:string, ['IsAzureCreditEligible']:string, ['PartNumber']:string, ['PayGPrice']:real, ['PlanName']:string, ['ServiceFamily']:string, ['CostAllocationRuleName']:string, ['benefitId']:string, ['benefitName']:string)\"\n",
    "az kusto query -c \"$adx_cluster_name\" -d \"$adx_database_name\" --query \"$adx/cmd\"\n",
    "\n",
    "# Create ADX table mapping\n",
    "adx/cmd = \".create table AmortizedCost ingestion csv mapping 'AmortizedCost/mapping' '[{\"column\":\"InvoiceSectionName\", \"Properties\":{\"Ordinal\":\"0\"}},{\"column\":\"AccountName\", \"Properties\":{\"Ordinal\":\"1\"}},{\"column\":\"AccountOwnerId\", \"Properties\":{\"Ordinal\":\"2\"}},{\"column\":\"SubscriptionId\", \"Properties\":{\"Ordinal\":\"3\"}},{\"column\":\"SubscriptionName\", \"Properties\":{\"Ordinal\":\"4\"}},{\"column\":\"ResourceGroup\", \"Properties\":{\"Ordinal\":\"5\"}},{\"column\":\"ResourceLocation\", \"Properties\":{\"Ordinal\":\"6\"}},{\"column\":\"Date\", \"Properties\":{\"Ordinal\":\"7\"}},{\"column\":\"ProductName\", \"Properties\":{\"Ordinal\":\"8\"}},{\"column\":\"MeterCategory\", \"Properties\":{\"Ordinal\":\"9\"}},{\"column\":\"MeterSubCategory\", \"Properties\":{\"Ordinal\":\"10\"}},{\"column\":\"MeterId\", \"Properties\":{\"Ordinal\":\"11\"}},{\"column\":\"MeterName\", \"Properties\":{\"Ordinal\":\"12\"}},{\"column\":\"MeterRegion\", \"Properties\":{\"Ordinal\":\"13\"}},{\"column\":\"UnitOfMeasure\", \"Properties\":{\"Ordinal\":\"14\"}},{\"column\":\"Quantity\", \"Properties\":{\"Ordinal\":\"15\"}},{\"column\":\"EffectivePrice\", \"Properties\":{\"Ordinal\":\"16\"}},{\"column\":\"CostInBillingCurrency\", \"Properties\":{\"Ordinal\":\"17\"}},{\"column\":\"CostCenter\", \"Properties\":{\"Ordinal\":\"18\"}},{\"column\":\"ConsumedService\", \"Properties\":{\"Ordinal\":\"19\"}},{\"column\":\"ResourceId\", \"Properties\":{\"Ordinal\":\"20\"}},{\"column\":\"Tags\", \"Properties\":{\"Ordinal\":\"21\"}},{\"column\":\"OfferId\", \"Properties\":{\"Ordinal\":\"22\"}},{\"column\":\"AdditionalInfo\", \"Properties\":{\"Ordinal\":\"23\"}},{\"column\":\"ServiceInfo1\", \"Properties\":{\"Ordinal\":\"24\"}},{\"column\":\"ServiceInfo2\", \"Properties\":{\"Ordinal\":\"25\"}},{\"column\":\"ResourceName\", \"Properties\":{\"Ordinal\":\"26\"}},{\"column\":\"ReservationId\", \"Properties\":{\"Ordinal\":\"27\"}},{\"column\":\"ReservationName\", \"Properties\":{\"Ordinal\":\"28\"}},{\"column\":\"UnitPrice\", \"Properties\":{\"Ordinal\":\"29\"}},{\"column\":\"ProductOrderId\", \"Properties\":{\"Ordinal\":\"30\"}},{\"column\":\"ProductOrderName\", \"Properties\":{\"Ordinal\":\"31\"}},{\"column\":\"Term\", \"Properties\":{\"Ordinal\":\"32\"}},{\"column\":\"PublisherType\", \"Properties\":{\"Ordinal\":\"33\"}},{\"column\":\"PublisherName\", \"Properties\":{\"Ordinal\":\"34\"}},{\"column\":\"ChargeType\", \"Properties\":{\"Ordinal\":\"35\"}},{\"column\":\"Frequency\", \"Properties\":{\"Ordinal\":\"36\"}},{\"column\":\"PricingModel\", \"Properties\":{\"Ordinal\":\"37\"}},{\"column\":\"AvailabilityZone\", \"Properties\":{\"Ordinal\":\"38\"}},{\"column\":\"BillingAccountId\", \"Properties\":{\"Ordinal\":\"39\"}},{\"column\":\"BillingAccountName\", \"Properties\":{\"Ordinal\":\"40\"}},{\"column\":\"BillingCurrencyCode\", \"Properties\":{\"Ordinal\":\"41\"}},{\"column\":\"BillingPeriodStartDate\", \"Properties\":{\"Ordinal\":\"42\"}},{\"column\":\"BillingPeriodEndDate\", \"Properties\":{\"Ordinal\":\"43\"}},{\"column\":\"BillingProfileId\", \"Properties\":{\"Ordinal\":\"44\"}},{\"column\":\"BillingProfileName\", \"Properties\":{\"Ordinal\":\"45\"}},{\"column\":\"InvoiceSectionId\", \"Properties\":{\"Ordinal\":\"46\"}},{\"column\":\"IsAzureCreditEligible\", \"Properties\":{\"Ordinal\":\"47\"}},{\"column\":\"PartNumber\", \"Properties\":{\"Ordinal\":\"48\"}},{\"column\":\"PayGPrice\", \"Properties\":{\"Ordinal\":\"49\"}},{\"column\":\"PlanName\", \"Properties\":{\"Ordinal\":\"50\"}},{\"column\":\"ServiceFamily\", \"Properties\":{\"Ordinal\":\"51\"}},{\"column\":\"CostAllocationRuleName\", \"Properties\":{\"Ordinal\":\"52\"}},{\"column\":\"benefitId\", \"Properties\":{\"Ordinal\":\"53\"}},{\"column\":\"benefitName\", \"Properties\":{\"Ordinal\":\"54\"}}]'\"\n",
    "az kusto query -c \"$adx_cluster_name\" -d \"$adx_database_name\" --query \"$adx_cmd\"\n",
    "```\n"
   ]
  },
  {
   "cell_type": "code",
   "execution_count": null,
   "metadata": {},
   "outputs": [],
   "source": [
    "%pip install --editable ../."
   ]
  },
  {
   "cell_type": "code",
   "execution_count": null,
   "metadata": {},
   "outputs": [],
   "source": [
    "from dotenv import load_dotenv\n",
    "load_dotenv()"
   ]
  },
  {
   "cell_type": "markdown",
   "metadata": {},
   "source": [
    "## Get Latest Files\n",
    "\n",
    "Billing files are exported daily into a path like `Azure/Amortized/20240501-20240531/csv/`. The following code will get the latest file for a given month.\n"
   ]
  },
  {
   "cell_type": "code",
   "execution_count": null,
   "metadata": {},
   "outputs": [],
   "source": [
    "# Get most recent files for a given directory\n",
    "import os\n",
    "import sys\n",
    "from prep.exports import get_most_recent_file\n",
    "\n",
    "connection_string = os.getenv(\"STORAGE_CONNECTION_STRING\")\n",
    "container_name = os.getenv(\"CONTAINER_NAME\")\n",
    "prefix = os.getenv(\"PREFIX\")\n",
    "\n",
    "# Get the most recent files for a given directory\n",
    "billing_file_infos = get_most_recent_file(connection_string, container_name, prefix)"
   ]
  },
  {
   "cell_type": "markdown",
   "metadata": {},
   "source": [
    "## Download file\n",
    "\n",
    "Download the latest file for the month in order to split into parts"
   ]
  },
  {
   "cell_type": "code",
   "execution_count": null,
   "metadata": {},
   "outputs": [],
   "source": [
    "# Download file\n",
    "from billing.blob_storage import copy_blob_as_azcopy\n",
    "from billing import util\n",
    "import logging\n",
    "\n",
    "project_root = os.path.dirname(os.getcwd())\n",
    "\n",
    "util.setup_logging(default_path=project_root + \"/logging.yaml\")\n",
    "_LOGGER = logging.getLogger(__name__)\n",
    "_LOGGER.info(\"Starting script\")\n",
    "\n",
    "file_name, file_size, file_url = billing_file_infos[1]\n",
    "sas_key = os.getenv(\"EXPORT_SAS\")\n",
    "destination_dir = os.path.join(project_root, \"temp\")\n",
    "destination_file = os.path.join(destination_dir, file_name.replace('/', '_'))\n",
    "\n",
    "copy_blob_as_azcopy(f\"{file_url}?{sas_key}\", destination_file)"
   ]
  },
  {
   "cell_type": "markdown",
   "metadata": {},
   "source": [
    "## Split file into Parts\n",
    "\n",
    "Split the file into parts of 100MB-1GB. Running the split will also get `stats` for each file. This includes the total number of rows and the total cost for the file. This is helpful for validating data."
   ]
  },
  {
   "cell_type": "code",
   "execution_count": null,
   "metadata": {},
   "outputs": [],
   "source": [
    "# Split file into parts\n",
    "from billing.blob_storage import split_local_csv_file\n",
    "from billing import util\n",
    "import logging\n",
    "import os\n",
    "\n",
    "project_root = os.path.dirname(os.getcwd())\n",
    "\n",
    "util.setup_logging(default_path=project_root + \"/logging.yaml\")\n",
    "_LOGGER = logging.getLogger(__name__)\n",
    "_LOGGER.info(\"Starting script\")\n",
    "\n",
    "destination_file = \"../temp/Azure_Actual_20230501-20230531_csv_Azure_ActualCost_v20230605T004903Z_574afa1e-0724-4291-a5f9-e82743b07f23.csv\"\n",
    "\n",
    "# Split the file\n",
    "stats = split_local_csv_file(destination_file, skip_header=True)\n",
    "print(f\"stats: rows: {stats[-1][1]}, cost: {stats[-1][2]}\")\n",
    "\n",
    "# Remove large file\n",
    "os.system(f\"rm {destination_file}\")\n",
    "# os.system(f\"az storage blob download --connection-string {connection_string} --container-name {container_name} --name {file} --file {file}\")\n"
   ]
  },
  {
   "cell_type": "markdown",
   "metadata": {},
   "source": [
    "## Upload Parts to Blob Storage\n",
    "\n",
    "ADX will import the files as parts"
   ]
  },
  {
   "cell_type": "code",
   "execution_count": null,
   "metadata": {},
   "outputs": [],
   "source": [
    "import re\n",
    "from billing.blob_storage import copy_blob_as_azcopy\n",
    "from billing import util\n",
    "import logging\n",
    "import os\n",
    "\n",
    "project_root = os.path.dirname(os.getcwd())\n",
    "\n",
    "util.setup_logging(default_path=project_root + \"/logging.yaml\")\n",
    "_LOGGER = logging.getLogger(__name__)\n",
    "_LOGGER.info(\"Upload split files abbababb\")\n",
    "\n",
    "# Upload Split files to Storage\n",
    "destination_file=\"../temp/Azure_Actual_20230501-20230531_csv_Azure_ActualCost_v20230605T004903Z_574afa1e-0724-4291-a5f9-e82743b07f23.csv\"\n",
    "\n",
    "storage_account_name = os.getenv(\"STORAGE_ACCOUNT_NAME\")\n",
    "dest_container_name = os.getenv(\"EXPORT_LATEST_PARTS_CONTAINER\")\n",
    "prefix = \"Azure/Actual/\"\n",
    "dest_sas = os.getenv(\"EXPORT_LATEST_PARTS_SAS\")\n",
    "\n",
    "source_path = os.path.splitext(destination_file)[0]\n",
    "yearmonth = re.search(r'(\\d{8})-\\d{8}', destination_file).group(1)[:6]\n",
    "destination_path = f\"https://{storage_account_name}.blob.core.windows.net/{dest_container_name}/{prefix}/{yearmonth}?{dest_sas}\"\n",
    "\n",
    "_LOGGER.info(\"Upload %s/*.csv to /%s\", source_path, destination_path)\n",
    "copy_blob_as_azcopy(f\"{source_path}/*.csv\", destination_path, recursive=True)\n",
    "# echo \"Upload ${source_path}/*.csv to /${dest_container_name}/${prefix}/${yearmonth}\"\n",
    "# tools/azcopy copy \"${source_path}/*.csv\" \"https://${storage_account_name}.blob.core.windows.net/${dest_container_name}/${prefix}/${yearmonth}?${dest_sas}\" --recursive\n"
   ]
  },
  {
   "cell_type": "markdown",
   "metadata": {},
   "source": [
    "# Ingest into ADX\n",
    "\n",
    "The `LightIngest` tool can import files from a storage account into ADX. The tool will also validate the data before importing.\n",
    "\n",
    "Bash\n",
    "```bash\n",
    "table_name=AmortizedCost\n",
    "mapping=AmortizedCost_mapping\n",
    "container_name=\"${EXPORT_LATEST_PARTS_CONTAINER}\"\n",
    "prefix=\"Azure/Actual/20221101-20221130\"\n",
    "source_sas=\"${EXPORT_LATEST_PARTS_SAS}\"\n",
    "tools/LightIngest \"https://ingest-${adx_cluster_name}.${adx_region}.kusto.windows.net;Fed=True\" \\\n",
    "    -database:${adx_database_name} \\\n",
    "    -table:\"$table_name\" \\\n",
    "    -source:\"https://${storage_account_name}.blob.core.windows.net/${container_name}?${source_sas}\" \\\n",
    "    -format:csv \\\n",
    "    -prefix:\"${prefix}\" \\\n",
    "    -pattern:\"*.csv\" \\\n",
    "    -ingestionMappingRef:\"$mapping\" \\\n",
    "    -creationTimePattern:\"'${prefix}/'yyyyMMdd'/'\" \\\n",
    "    -dontWait:true\n",
    "```\n",
    "\n",
    "PowerShell\n",
    "```powershell\n",
    "# Load env variables (optional)\n",
    "Get-Content .env | ForEach-Object {\n",
    "    $name, $value = $_.split('=', 2)\n",
    "    if (-not [string]::IsNullOrWhiteSpace($name) -and -not $name.Contains('#')) {\n",
    "        $cleanedValue = $value -replace '\"', ''\n",
    "        Set-Content env:$name $cleanedValue\n",
    "    }\n",
    "}\n",
    "\n",
    "$table_name=\"AmortizedCost\"\n",
    "$mapping=\"AmortizedCost_mapping\"\n",
    "$container_name=\"${env:EXPORT_LATEST_PARTS_CONTAINER}\"\n",
    "$prefix=\"Azure/Actual/20221101-20221130\"\n",
    "$source_sas=\"${env:EXPORT_LATEST_PARTS_SAS}\"\n",
    "tools/LigtIngest \"https://ingest-${env:adx_cluster_name}.${env:adx_region}.kusto.windows.net;Fed=True\" `\n",
    "    -database:\"${env:adx_database_name}\" `\n",
    "    -table:\"$table_name\" `\n",
    "    -source:\"https://${env:storage_account_name}.blob.core.windows.net/${container_name}?${source_sas}\" `\n",
    "    -format:csv `\n",
    "    -prefix:\"${prefix}\" `\n",
    "    -pattern:\"*.csv\" `\n",
    "    -ingestionMappingRef:\"$mapping\" `\n",
    "    -creationTimePattern:\"'${prefix}/'yyyyMMdd'/'\" `\n",
    "    -dontWait:true\n",
    "```\n"
   ]
  },
  {
   "cell_type": "markdown",
   "metadata": {},
   "source": [
    "Helpful ADX queries\n",
    "\n",
    "```bash\n",
    "# Data Quality Checks\n",
    "AmortizedCost\n",
    "| summarize count() by ['Date']\n",
    "\n",
    "# Min Max Date\n",
    "['AmortizedCost']\n",
    "| summarize min(['Date']), max(['Date'])\n",
    "\n",
    "# Cost by month\n",
    "AmortizedCost\n",
    "| summarize cost=round(sum(CostInBillingCurrency), 2) by startofmonth = startofmonth(['Date'])\n",
    "\n",
    "AmortizedCost\n",
    "| summarize cost=round(sum(CostInBillingCurrency),2) by MeterCategory, month = startofmonth(['Date'])\n",
    "| project year_month=format_datetime(month, 'yyyy-MM'), cost\n",
    "| summarize cost=sum(cost) by year_month\n",
    "| order by year_month asc\n",
    "\n",
    "# Cost by month and category\n",
    "AmortizedCost\n",
    "| summarize Costs = round(sum(CostInBillingCurrency),2) by MeterCategory, Month = startofmonth(['Date'])\n",
    "\n",
    "AmortizedCost\n",
    "| extend year_month=format_datetime(['Date'], 'yyyy-MM')\n",
    "| summarize cost=sum(CostInBillingCurrency) by year_month\n",
    "| order by year_month asc\n",
    "\n",
    "# CostGrowth over time\n",
    "let PreviousCosts = AmortizedCost\n",
    "| where ['Date'] between (datetime(2023-05-01) .. datetime(2023-05-31))\n",
    "| summarize PreviousCost = sum(CostInBillingCurrency) by MeterCategory;\n",
    "let CurrentCosts = AmortizedCost\n",
    "| where ['Date'] between (datetime(2024-05-01) .. datetime(2024-05-31))\n",
    "| summarize CurrentCost = sum(CostInBillingCurrency) by MeterCategory;\n",
    "CurrentCosts\n",
    "| join kind = inner (\n",
    "    PreviousCosts\n",
    "    ) on MeterCategory\n",
    "| project MeterCategory, round(CurrentCost,2), round(PreviousCost,2), CostGrowth= round((CurrentCost - PreviousCost) ,2)\n",
    "| sort by CostGrowth\n",
    "\n",
    ".show ingestion mappings\n",
    "\n",
    "# Show tag key names and counts\n",
    "AmortizedCost\n",
    "| where Date between (datetime(2024-05-01) .. datetime(2024-05-31))\n",
    "| extend TagJson = strcat(\"{\", tolower(tostring(Tags)), \"}\")\n",
    "| extend ParsedTags = parse_json(TagJson)\n",
    "| mv-expand Tag = ParsedTags\n",
    "| extend TagKey = tostring(bag_keys(Tag)[0])\n",
    "| extend TagValue = tostring(Tag[TagKey])\n",
    "| summarize UniqueValuesCount = dcount(TagValue) by TagKey\n",
    "| sort by UniqueValuesCount\n",
    "```"
   ]
  },
  {
   "cell_type": "markdown",
   "metadata": {},
   "source": [
    "## Clean up temp Files\n",
    "\n",
    "Remove the temp files\n",
    "\n",
    "```bash\n",
    "rm \"${source_path}\"/*.csv\n",
    "``` "
   ]
  },
  {
   "cell_type": "code",
   "execution_count": null,
   "metadata": {},
   "outputs": [],
   "source": []
  }
 ],
 "metadata": {
  "kernelspec": {
   "display_name": "Python 3",
   "language": "python",
   "name": "python3"
  },
  "language_info": {
   "codemirror_mode": {
    "name": "ipython",
    "version": 3
   },
   "file_extension": ".py",
   "mimetype": "text/x-python",
   "name": "python",
   "nbconvert_exporter": "python",
   "pygments_lexer": "ipython3",
   "version": "3.12.2"
  }
 },
 "nbformat": 4,
 "nbformat_minor": 2
}
