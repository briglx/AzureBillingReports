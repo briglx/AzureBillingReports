{
 "cells": [
  {
   "cell_type": "markdown",
   "metadata": {},
   "source": [
    "# Overview\n",
    "\n",
    "Import file into local database\n",
    "\n",
    "# Setup\n",
    "\n",
    "Configure the environment variables. Copy `example.env` to `.env` and update the values\n",
    "```bash\n",
    "cp example.env .env\n",
    "\n",
    "# load .env vars (optional)\n",
    "[ -f .env ] && while IFS= read -r line; do [[ $line =~ ^[^#]*= ]] && eval \"export $line\"; done < .env\n",
    "```"
   ]
  },
  {
   "cell_type": "code",
   "execution_count": 1,
   "metadata": {},
   "outputs": [
    {
     "data": {
      "text/plain": [
       "'/workspaces/AzureBillingReports/temp/Azure_Actual_20230501-20230531_csv_Azure_ActualCost_v20230605T004903Z_574afa1e-0724-4291-a5f9-e82743b07f23/part_01.csv'"
      ]
     },
     "execution_count": 1,
     "metadata": {},
     "output_type": "execute_result"
    }
   ],
   "source": [
    "import pandas as pd\n",
    "import pathlib\n",
    "import os\n",
    "\n",
    "from dotenv import load_dotenv\n",
    "load_dotenv()\n",
    "\n",
    "project_root = os.path.dirname(os.getcwd())\n",
    "reports_dir = os.getenv(\"DATA_DIR\")\n",
    "file_name = os.getenv(\"TEST_FILE_NAME\")\n",
    "csv_file = os.path.join(project_root, reports_dir, file_name)\n",
    "csv_file"
   ]
  },
  {
   "cell_type": "markdown",
   "metadata": {},
   "source": [
    "## Create local database"
   ]
  },
  {
   "cell_type": "code",
   "execution_count": 2,
   "metadata": {},
   "outputs": [],
   "source": [
    "import pandas as pd\n",
    "import sqlite3\n",
    "from sqlalchemy import create_engine\n",
    "import pathlib\n",
    "\n",
    "csv_database = create_engine('sqlite:///small_sample.db')"
   ]
  },
  {
   "cell_type": "markdown",
   "metadata": {},
   "source": [
    "## Import to Database"
   ]
  },
  {
   "cell_type": "code",
   "execution_count": 5,
   "metadata": {},
   "outputs": [
    {
     "name": "stdout",
     "output_type": "stream",
     "text": [
      "['InvoiceSectionName', 'AccountName', 'AccountOwnerId', 'SubscriptionId', 'SubscriptionName', 'ResourceGroup', 'ResourceLocation', 'Date', 'ProductName', 'MeterCategory', 'MeterSubCategory', 'MeterId', 'MeterName', 'MeterRegion', 'UnitOfMeasure', 'Quantity', 'EffectivePrice', 'CostInBillingCurrency', 'CostCenter', 'ConsumedService', 'ResourceId', 'Tags', 'OfferId', 'AdditionalInfo', 'ServiceInfo1', 'ServiceInfo2', 'ResourceName', 'ReservationId', 'ReservationName', 'UnitPrice', 'ProductOrderId', 'ProductOrderName', 'Term', 'PublisherType', 'PublisherName', 'ChargeType', 'Frequency', 'PricingModel', 'AvailabilityZone', 'BillingAccountId', 'BillingAccountName', 'BillingCurrencyCode', 'BillingPeriodStartDate', 'BillingPeriodEndDate', 'BillingProfileId', 'BillingProfileName', 'InvoiceSectionId', 'IsAzureCreditEligible', 'PartNumber', 'PayGPrice', 'PlanName', 'ServiceFamily', 'CostAllocationRuleName', 'benefitId', 'benefitName']\n"
     ]
    },
    {
     "name": "stderr",
     "output_type": "stream",
     "text": [
      "/tmp/ipykernel_46742/1115165564.py:6: DtypeWarning: Columns (27,28,30,31,34,50,53,54) have mixed types. Specify dtype option on import or set low_memory=False.\n",
      "  for chunk in csv_iterator:\n"
     ]
    },
    {
     "name": "stdout",
     "output_type": "stream",
     "text": [
      "index: 2\n"
     ]
    }
   ],
   "source": [
    "from billing import BILLING_DTYPES, DEFAULT_CHUNK_SIZE, BILLING_COLUMN_NAMES\n",
    "\n",
    "print(BILLING_COLUMN_NAMES)\n",
    "batch_no=1\n",
    "csv_iterator = pd.read_csv(csv_file, chunksize=DEFAULT_CHUNK_SIZE, header=None, names=BILLING_COLUMN_NAMES, iterator=True, parse_dates=['Date', 'BillingPeriodStartDate', 'BillingPeriodEndDate'])\n",
    "for chunk in csv_iterator:\n",
    "    chunk.to_sql('ActualCost',csv_database, if_exists='append')\n",
    "    batch_no+=1\n",
    "    print('index: {}'.format(batch_no))"
   ]
  },
  {
   "cell_type": "code",
   "execution_count": 7,
   "metadata": {},
   "outputs": [
    {
     "data": {
      "text/html": [
       "<div>\n",
       "<style scoped>\n",
       "    .dataframe tbody tr th:only-of-type {\n",
       "        vertical-align: middle;\n",
       "    }\n",
       "\n",
       "    .dataframe tbody tr th {\n",
       "        vertical-align: top;\n",
       "    }\n",
       "\n",
       "    .dataframe thead th {\n",
       "        text-align: right;\n",
       "    }\n",
       "</style>\n",
       "<table border=\"1\" class=\"dataframe\">\n",
       "  <thead>\n",
       "    <tr style=\"text-align: right;\">\n",
       "      <th></th>\n",
       "      <th>Date</th>\n",
       "      <th>Sum(CostInBillingCurrency)</th>\n",
       "    </tr>\n",
       "  </thead>\n",
       "  <tbody>\n",
       "    <tr>\n",
       "      <th>0</th>\n",
       "      <td>2023-05-01 00:00:00.000000</td>\n",
       "      <td>264993.057861</td>\n",
       "    </tr>\n",
       "    <tr>\n",
       "      <th>1</th>\n",
       "      <td>2023-05-02 00:00:00.000000</td>\n",
       "      <td>138322.067972</td>\n",
       "    </tr>\n",
       "  </tbody>\n",
       "</table>\n",
       "</div>"
      ],
      "text/plain": [
       "                         Date  Sum(CostInBillingCurrency)\n",
       "0  2023-05-01 00:00:00.000000               264993.057861\n",
       "1  2023-05-02 00:00:00.000000               138322.067972"
      ]
     },
     "execution_count": 7,
     "metadata": {},
     "output_type": "execute_result"
    }
   ],
   "source": [
    "df_new = pd.read_sql_query('SELECT Date, Sum(CostInBillingCurrency) FROM ActualCost Group By Date',csv_database)\n",
    "df_new.head()"
   ]
  },
  {
   "cell_type": "code",
   "execution_count": null,
   "metadata": {},
   "outputs": [],
   "source": []
  }
 ],
 "metadata": {
  "kernelspec": {
   "display_name": "Python 3",
   "language": "python",
   "name": "python3"
  },
  "language_info": {
   "codemirror_mode": {
    "name": "ipython",
    "version": 3
   },
   "file_extension": ".py",
   "mimetype": "text/x-python",
   "name": "python",
   "nbconvert_exporter": "python",
   "pygments_lexer": "ipython3",
   "version": "3.12.2"
  }
 },
 "nbformat": 4,
 "nbformat_minor": 2
}
