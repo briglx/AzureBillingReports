{
 "cells": [
  {
   "cell_type": "markdown",
   "metadata": {},
   "source": [
    "# Utility Commands\n",
    "\n",
    "Various utility commands to help manage and analyze billing data.\n",
    "\n",
    "## Copy Latest Files\n",
    "Billing files are exported daily into a path like `Azure/Amortized/20240501-20240531/csv/`. The following code will copy the latest file for a given month from a `source` container into a `destination` container.\n",
    "\n",
    "```bash\n",
    "source=\"${EXPORT_URL}?${EXPORT_SAS}\"\n",
    "destination=\"${EXPORT_LATEST_URL}?${EXPORT_LATEST_SAS}\"\n",
    "python /scripts/copy_latest_files.py \"$source\" \"$destination\"\n",
    "```\n",
    "\n",
    "## Split CSV Files\n",
    "\n",
    "Split csv files into parts of 100MB-1GB. Running the split will also get `stats` for each file. This includes the total number of rows and the total cost for the file. This is helpful for validating data.\n",
    "\n",
    "* `source` is the path to a storage account container where the files are located.\n",
    "* `destination` is the path to storage account container where the split files will be saved.\n",
    "\n",
    "```bash\n",
    "source=\"$EXPORT_LATEST_URL\"\n",
    "destination=\"$EXPORT_LATEST_PARTS_URL\"\n",
    "python /scripts/split_csv_files.py \"$source\" \"$destination\"\n",
    "```"
   ]
  }
 ],
 "metadata": {
  "kernelspec": {
   "display_name": "Python 3",
   "language": "python",
   "name": "python3"
  },
  "language_info": {
   "codemirror_mode": {
    "name": "ipython",
    "version": 3
   },
   "file_extension": ".py",
   "mimetype": "text/x-python",
   "name": "python",
   "nbconvert_exporter": "python",
   "pygments_lexer": "ipython3",
   "version": "3.12.3"
  }
 },
 "nbformat": 4,
 "nbformat_minor": 2
}
